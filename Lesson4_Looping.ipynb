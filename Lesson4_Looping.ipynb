{
  "nbformat": 4,
  "nbformat_minor": 0,
  "metadata": {
    "colab": {
      "name": "Lesson4 - Looping.ipynb",
      "provenance": [],
      "authorship_tag": "ABX9TyOuZnyu5yfdP7fD9i0OTsAv",
      "include_colab_link": true
    },
    "kernelspec": {
      "name": "python3",
      "display_name": "Python 3"
    },
    "language_info": {
      "name": "python"
    }
  },
  "cells": [
    {
      "cell_type": "markdown",
      "metadata": {
        "id": "view-in-github",
        "colab_type": "text"
      },
      "source": [
        "<a href=\"https://colab.research.google.com/github/Chondryryte/micro-credential-winter-2022/blob/main/Lesson4_Looping.ipynb\" target=\"_parent\"><img src=\"https://colab.research.google.com/assets/colab-badge.svg\" alt=\"Open In Colab\"/></a>"
      ]
    },
    {
      "cell_type": "markdown",
      "source": [
        "#Lesson4 - Looping"
      ],
      "metadata": {
        "id": "sTTrYojDbtDC"
      }
    },
    {
      "cell_type": "code",
      "source": [
        "#Create a list that holds 5 data variables. \n",
        "l = ['a','b','c','d','e']"
      ],
      "metadata": {
        "id": "0dF5klzZcati"
      },
      "execution_count": 2,
      "outputs": []
    },
    {
      "cell_type": "code",
      "source": [
        "#Print out those variables by using a for loop.\n",
        "for x in l:\n",
        "  print(x)"
      ],
      "metadata": {
        "colab": {
          "base_uri": "https://localhost:8080/"
        },
        "id": "ND51W2BDb5Hz",
        "outputId": "23f4cbf3-132a-4b57-9e0d-c26c94fc7ef1"
      },
      "execution_count": 3,
      "outputs": [
        {
          "output_type": "stream",
          "name": "stdout",
          "text": [
            "a\n",
            "b\n",
            "c\n",
            "d\n",
            "e\n"
          ]
        }
      ]
    },
    {
      "cell_type": "code",
      "source": [
        "#Modify your for loop to add a message to your for loop.\n",
        "for x in l:\n",
        "  print('I love the letter '+ x)"
      ],
      "metadata": {
        "colab": {
          "base_uri": "https://localhost:8080/"
        },
        "id": "rt1rs4P6b5CN",
        "outputId": "58b1184e-3e91-4954-d5d3-12a0e917fb7e"
      },
      "execution_count": 5,
      "outputs": [
        {
          "output_type": "stream",
          "name": "stdout",
          "text": [
            "I love the letter a\n",
            "I love the letter b\n",
            "I love the letter c\n",
            "I love the letter d\n",
            "I love the letter e\n"
          ]
        }
      ]
    },
    {
      "cell_type": "code",
      "source": [
        "#Use a for loop to print even numbers from 1-20.\n",
        "list = range(1,20)\n",
        "for x in list:\n",
        "  if x % 2 == 0:\n",
        "    print(x) "
      ],
      "metadata": {
        "colab": {
          "base_uri": "https://localhost:8080/"
        },
        "id": "QRJUdUNyb4_6",
        "outputId": "091f5249-d6a8-460a-ca3d-f6b9b9a09b09"
      },
      "execution_count": 7,
      "outputs": [
        {
          "output_type": "stream",
          "name": "stdout",
          "text": [
            "2\n",
            "4\n",
            "6\n",
            "8\n",
            "10\n",
            "12\n",
            "14\n",
            "16\n",
            "18\n"
          ]
        }
      ]
    },
    {
      "cell_type": "code",
      "source": [
        "#Sort your list in alphabetic order.\n",
        "print(sorted(l))"
      ],
      "metadata": {
        "colab": {
          "base_uri": "https://localhost:8080/"
        },
        "id": "3kAVG4F_b49y",
        "outputId": "6763f478-aaca-4980-a539-f63cb7dc7631"
      },
      "execution_count": 9,
      "outputs": [
        {
          "output_type": "stream",
          "name": "stdout",
          "text": [
            "['a', 'b', 'c', 'd', 'e']\n"
          ]
        }
      ]
    },
    {
      "cell_type": "code",
      "source": [
        "#Print out the first three elements of your list.\n",
        "for x in l[:3]:\n",
        "  print(x)"
      ],
      "metadata": {
        "colab": {
          "base_uri": "https://localhost:8080/"
        },
        "id": "ZiEpcRhkb47R",
        "outputId": "dcf8c767-a702-45f1-948a-06d23905c908"
      },
      "execution_count": 11,
      "outputs": [
        {
          "output_type": "stream",
          "name": "stdout",
          "text": [
            "a\n",
            "b\n",
            "c\n"
          ]
        }
      ]
    },
    {
      "cell_type": "code",
      "source": [
        "#Create a loop to print the last 2 elements of your list.\n",
        "for x in l[-2:]:\n",
        "  print(x)"
      ],
      "metadata": {
        "colab": {
          "base_uri": "https://localhost:8080/"
        },
        "id": "sloCm1XnduZx",
        "outputId": "a9a96333-7253-4571-b36c-b113dc01e650"
      },
      "execution_count": 13,
      "outputs": [
        {
          "output_type": "stream",
          "name": "stdout",
          "text": [
            "d\n",
            "e\n"
          ]
        }
      ]
    }
  ]
}