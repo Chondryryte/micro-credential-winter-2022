{
  "nbformat": 4,
  "nbformat_minor": 0,
  "metadata": {
    "colab": {
      "name": "Lesson 6 - Dictionaries.ipynb",
      "provenance": [],
      "collapsed_sections": [],
      "authorship_tag": "ABX9TyNIG738KfPnogJOKg9MpdGx",
      "include_colab_link": true
    },
    "kernelspec": {
      "name": "python3",
      "display_name": "Python 3"
    },
    "language_info": {
      "name": "python"
    }
  },
  "cells": [
    {
      "cell_type": "markdown",
      "metadata": {
        "id": "view-in-github",
        "colab_type": "text"
      },
      "source": [
        "<a href=\"https://colab.research.google.com/github/Chondryryte/micro-credential-winter-2022/blob/main/Lesson_6_Dictionaries.ipynb\" target=\"_parent\"><img src=\"https://colab.research.google.com/assets/colab-badge.svg\" alt=\"Open In Colab\"/></a>"
      ]
    },
    {
      "cell_type": "markdown",
      "source": [
        "#Dictionaries"
      ],
      "metadata": {
        "id": "OvQHC0TafWE8"
      }
    },
    {
      "cell_type": "code",
      "source": [
        "#Create a simple dictionary that stores 2 variables, for example: first and last name.\n",
        "name = {'firstname': 'Jake' , 'lastname': 'Ross'}"
      ],
      "metadata": {
        "id": "caZ_WC5AfmCW"
      },
      "execution_count": 4,
      "outputs": []
    },
    {
      "cell_type": "code",
      "source": [
        "#Print out those variables stored in your previous dictionary. \n",
        "print(name['firstname'])"
      ],
      "metadata": {
        "colab": {
          "base_uri": "https://localhost:8080/"
        },
        "id": "urMpHBUXfl5v",
        "outputId": "bfd5d6cb-d1d7-415c-f3c3-ff2eba5b74f2"
      },
      "execution_count": 9,
      "outputs": [
        {
          "output_type": "stream",
          "name": "stdout",
          "text": [
            "Jake\n"
          ]
        }
      ]
    },
    {
      "cell_type": "code",
      "source": [
        "#Add a message to those variables on printing\n",
        "print('wassup'+ name['firstname'] + name['lastname'])"
      ],
      "metadata": {
        "colab": {
          "base_uri": "https://localhost:8080/"
        },
        "id": "7ilHGQTvflsZ",
        "outputId": "7e98206c-3220-4daf-f1ae-30b36d788e48"
      },
      "execution_count": 11,
      "outputs": [
        {
          "output_type": "stream",
          "name": "stdout",
          "text": [
            "wassupJakeRoss\n"
          ]
        }
      ]
    },
    {
      "cell_type": "code",
      "source": [
        "#Create a dictionary that holds 2 key: value pairs\n",
        "people = {'red': 'chris', 'blue' : 'jim'}\n",
        "#Look through your dictionary and print each pair\n",
        "for key, value in people.items():\n",
        "  print(key, value)"
      ],
      "metadata": {
        "colab": {
          "base_uri": "https://localhost:8080/"
        },
        "id": "xaeYlejAflpG",
        "outputId": "1c96e477-d74d-4d72-894b-075949a33897"
      },
      "execution_count": 19,
      "outputs": [
        {
          "output_type": "stream",
          "name": "stdout",
          "text": [
            "red chris\n",
            "blue jim\n"
          ]
        }
      ]
    },
    {
      "cell_type": "code",
      "source": [
        "#Create a nested dictionary containing three dictionaries – these dictionaries could be anything\n",
        "fun = {'game': {'dmc': 'yes', 'dark souls': 'no'}, 'food': { 'chicken': 'good', 'candy': 'stop'} }\n",
        "\n",
        "for i in fun:\n",
        "  print('I love '+ i)\n",
        "  for x in fun[i]:\n",
        "    print(x + ' is a great '+ i)\n"
      ],
      "metadata": {
        "colab": {
          "base_uri": "https://localhost:8080/"
        },
        "id": "nu7mRcgtflYl",
        "outputId": "393dec43-c3db-48bd-c4a7-3ca5f3e15caa"
      },
      "execution_count": 27,
      "outputs": [
        {
          "output_type": "stream",
          "name": "stdout",
          "text": [
            "I love game\n",
            "dmc is a great game\n",
            "dark souls is a great game\n",
            "I love food\n",
            "chicken is a great food\n",
            "candy is a great food\n"
          ]
        }
      ]
    }
  ]
}